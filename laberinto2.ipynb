{
 "cells": [
  {
   "cell_type": "code",
   "execution_count": null,
   "id": "84efc4a4",
   "metadata": {},
   "outputs": [],
   "source": [
    "ancho = int(input(\"Elija el ancho de su laberinto\"))\n",
    "alto = int(input(\"Elija el largo de su laberinto\"))\n",
    "# Forzar a impar\n",
    "if ancho % 2 == 0:\n",
    "    ancho += 1\n",
    "\n",
    "if alto % 2 == 0:\n",
    "    alto += 1\n",
    "\n",
    "laberinto = [[\"#\" for columna in range(ancho)] for fila in range(alto)]\n",
    "\n",
    "# Función de Imprimir Tablero:\n",
    "def mostrar_tablero(laberinto):\n",
    "    for fila in laberinto:\n",
    "        print(\" \".join(fila))\n",
    "\n",
    "import random\n",
    "def generar_mapa(x, y):\n",
    "    laberinto[x][y] = \".\"\n",
    "    movimientos_posibles = [(0, 2), (0, -2), (2, 0), (-2, 0)]\n",
    "    random.shuffle(movimientos_posibles)\n",
    "\n",
    "    for dx, dy in movimientos_posibles:\n",
    "        nueva_x = x + dx\n",
    "        nueva_y = y + dy\n",
    "        \n",
    "        if 0 <= nueva_x < alto and 0 <= nueva_y < ancho:\n",
    "            laberinto[x + dx // 2][y + dy // 2] = \".\"  # Rompe la pared entre ellos\n",
    "            generar_mapa(nueva_x, nueva_y)\n",
    "\n",
    "generar_mapa(1, 1)\n",
    "mostrar_tablero(laberinto)\n"
   ]
  }
 ],
 "metadata": {
  "language_info": {
   "name": "python"
  }
 },
 "nbformat": 4,
 "nbformat_minor": 5
}
